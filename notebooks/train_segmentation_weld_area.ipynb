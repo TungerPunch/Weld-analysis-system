{
  "nbformat": 4,
  "nbformat_minor": 0,
  "metadata": {
    "colab": {
      "provenance": [],
      "gpuType": "T4"
    },
    "kernelspec": {
      "name": "python3",
      "display_name": "Python 3"
    },
    "language_info": {
      "name": "python"
    },
    "accelerator": "GPU"
  },
  "cells": [
    {
      "cell_type": "code",
      "execution_count": null,
      "metadata": {
        "id": "IRr1S-onrDaB"
      },
      "outputs": [],
      "source": [
        "import os\n",
        "import glob as glob\n",
        "import matplotlib.pyplot as plt\n",
        "import cv2\n",
        "import torch\n",
        "import numpy as np"
      ]
    },
    {
      "cell_type": "code",
      "source": [
        "!pip install ultralytics"
      ],
      "metadata": {
        "colab": {
          "base_uri": "https://localhost:8080/"
        },
        "id": "9paCIDJvgOGQ",
        "outputId": "40ed191a-5f17-4053-ef80-ee27641c2572"
      },
      "execution_count": null,
      "outputs": [
        {
          "output_type": "stream",
          "name": "stdout",
          "text": [
            "Collecting ultralytics\n",
            "  Downloading ultralytics-8.2.28-py3-none-any.whl (779 kB)\n",
            "\u001b[2K     \u001b[90m━━━━━━━━━━━━━━━━━━━━━━━━━━━━━━━━━━━━━━━━\u001b[0m \u001b[32m779.6/779.6 kB\u001b[0m \u001b[31m16.4 MB/s\u001b[0m eta \u001b[36m0:00:00\u001b[0m\n",
            "\u001b[?25hRequirement already satisfied: matplotlib>=3.3.0 in /usr/local/lib/python3.10/dist-packages (from ultralytics) (3.7.1)\n",
            "Requirement already satisfied: opencv-python>=4.6.0 in /usr/local/lib/python3.10/dist-packages (from ultralytics) (4.8.0.76)\n",
            "Requirement already satisfied: pillow>=7.1.2 in /usr/local/lib/python3.10/dist-packages (from ultralytics) (9.4.0)\n",
            "Requirement already satisfied: pyyaml>=5.3.1 in /usr/local/lib/python3.10/dist-packages (from ultralytics) (6.0.1)\n",
            "Requirement already satisfied: requests>=2.23.0 in /usr/local/lib/python3.10/dist-packages (from ultralytics) (2.31.0)\n",
            "Requirement already satisfied: scipy>=1.4.1 in /usr/local/lib/python3.10/dist-packages (from ultralytics) (1.11.4)\n",
            "Requirement already satisfied: torch>=1.8.0 in /usr/local/lib/python3.10/dist-packages (from ultralytics) (2.3.0+cu121)\n",
            "Requirement already satisfied: torchvision>=0.9.0 in /usr/local/lib/python3.10/dist-packages (from ultralytics) (0.18.0+cu121)\n",
            "Requirement already satisfied: tqdm>=4.64.0 in /usr/local/lib/python3.10/dist-packages (from ultralytics) (4.66.4)\n",
            "Requirement already satisfied: psutil in /usr/local/lib/python3.10/dist-packages (from ultralytics) (5.9.5)\n",
            "Requirement already satisfied: py-cpuinfo in /usr/local/lib/python3.10/dist-packages (from ultralytics) (9.0.0)\n",
            "Requirement already satisfied: pandas>=1.1.4 in /usr/local/lib/python3.10/dist-packages (from ultralytics) (2.0.3)\n",
            "Requirement already satisfied: seaborn>=0.11.0 in /usr/local/lib/python3.10/dist-packages (from ultralytics) (0.13.1)\n",
            "Collecting ultralytics-thop>=0.2.5 (from ultralytics)\n",
            "  Downloading ultralytics_thop-0.2.7-py3-none-any.whl (25 kB)\n",
            "Requirement already satisfied: contourpy>=1.0.1 in /usr/local/lib/python3.10/dist-packages (from matplotlib>=3.3.0->ultralytics) (1.2.1)\n",
            "Requirement already satisfied: cycler>=0.10 in /usr/local/lib/python3.10/dist-packages (from matplotlib>=3.3.0->ultralytics) (0.12.1)\n",
            "Requirement already satisfied: fonttools>=4.22.0 in /usr/local/lib/python3.10/dist-packages (from matplotlib>=3.3.0->ultralytics) (4.53.0)\n",
            "Requirement already satisfied: kiwisolver>=1.0.1 in /usr/local/lib/python3.10/dist-packages (from matplotlib>=3.3.0->ultralytics) (1.4.5)\n",
            "Requirement already satisfied: numpy>=1.20 in /usr/local/lib/python3.10/dist-packages (from matplotlib>=3.3.0->ultralytics) (1.25.2)\n",
            "Requirement already satisfied: packaging>=20.0 in /usr/local/lib/python3.10/dist-packages (from matplotlib>=3.3.0->ultralytics) (24.0)\n",
            "Requirement already satisfied: pyparsing>=2.3.1 in /usr/local/lib/python3.10/dist-packages (from matplotlib>=3.3.0->ultralytics) (3.1.2)\n",
            "Requirement already satisfied: python-dateutil>=2.7 in /usr/local/lib/python3.10/dist-packages (from matplotlib>=3.3.0->ultralytics) (2.8.2)\n",
            "Requirement already satisfied: pytz>=2020.1 in /usr/local/lib/python3.10/dist-packages (from pandas>=1.1.4->ultralytics) (2023.4)\n",
            "Requirement already satisfied: tzdata>=2022.1 in /usr/local/lib/python3.10/dist-packages (from pandas>=1.1.4->ultralytics) (2024.1)\n",
            "Requirement already satisfied: charset-normalizer<4,>=2 in /usr/local/lib/python3.10/dist-packages (from requests>=2.23.0->ultralytics) (3.3.2)\n",
            "Requirement already satisfied: idna<4,>=2.5 in /usr/local/lib/python3.10/dist-packages (from requests>=2.23.0->ultralytics) (3.7)\n",
            "Requirement already satisfied: urllib3<3,>=1.21.1 in /usr/local/lib/python3.10/dist-packages (from requests>=2.23.0->ultralytics) (2.0.7)\n",
            "Requirement already satisfied: certifi>=2017.4.17 in /usr/local/lib/python3.10/dist-packages (from requests>=2.23.0->ultralytics) (2024.6.2)\n",
            "Requirement already satisfied: filelock in /usr/local/lib/python3.10/dist-packages (from torch>=1.8.0->ultralytics) (3.14.0)\n",
            "Requirement already satisfied: typing-extensions>=4.8.0 in /usr/local/lib/python3.10/dist-packages (from torch>=1.8.0->ultralytics) (4.12.1)\n",
            "Requirement already satisfied: sympy in /usr/local/lib/python3.10/dist-packages (from torch>=1.8.0->ultralytics) (1.12.1)\n",
            "Requirement already satisfied: networkx in /usr/local/lib/python3.10/dist-packages (from torch>=1.8.0->ultralytics) (3.3)\n",
            "Requirement already satisfied: jinja2 in /usr/local/lib/python3.10/dist-packages (from torch>=1.8.0->ultralytics) (3.1.4)\n",
            "Requirement already satisfied: fsspec in /usr/local/lib/python3.10/dist-packages (from torch>=1.8.0->ultralytics) (2023.6.0)\n",
            "Collecting nvidia-cuda-nvrtc-cu12==12.1.105 (from torch>=1.8.0->ultralytics)\n",
            "  Using cached nvidia_cuda_nvrtc_cu12-12.1.105-py3-none-manylinux1_x86_64.whl (23.7 MB)\n",
            "Collecting nvidia-cuda-runtime-cu12==12.1.105 (from torch>=1.8.0->ultralytics)\n",
            "  Using cached nvidia_cuda_runtime_cu12-12.1.105-py3-none-manylinux1_x86_64.whl (823 kB)\n",
            "Collecting nvidia-cuda-cupti-cu12==12.1.105 (from torch>=1.8.0->ultralytics)\n",
            "  Using cached nvidia_cuda_cupti_cu12-12.1.105-py3-none-manylinux1_x86_64.whl (14.1 MB)\n",
            "Collecting nvidia-cudnn-cu12==8.9.2.26 (from torch>=1.8.0->ultralytics)\n",
            "  Using cached nvidia_cudnn_cu12-8.9.2.26-py3-none-manylinux1_x86_64.whl (731.7 MB)\n",
            "Collecting nvidia-cublas-cu12==12.1.3.1 (from torch>=1.8.0->ultralytics)\n",
            "  Using cached nvidia_cublas_cu12-12.1.3.1-py3-none-manylinux1_x86_64.whl (410.6 MB)\n",
            "Collecting nvidia-cufft-cu12==11.0.2.54 (from torch>=1.8.0->ultralytics)\n",
            "  Using cached nvidia_cufft_cu12-11.0.2.54-py3-none-manylinux1_x86_64.whl (121.6 MB)\n",
            "Collecting nvidia-curand-cu12==10.3.2.106 (from torch>=1.8.0->ultralytics)\n",
            "  Using cached nvidia_curand_cu12-10.3.2.106-py3-none-manylinux1_x86_64.whl (56.5 MB)\n",
            "Collecting nvidia-cusolver-cu12==11.4.5.107 (from torch>=1.8.0->ultralytics)\n",
            "  Using cached nvidia_cusolver_cu12-11.4.5.107-py3-none-manylinux1_x86_64.whl (124.2 MB)\n",
            "Collecting nvidia-cusparse-cu12==12.1.0.106 (from torch>=1.8.0->ultralytics)\n",
            "  Using cached nvidia_cusparse_cu12-12.1.0.106-py3-none-manylinux1_x86_64.whl (196.0 MB)\n",
            "Collecting nvidia-nccl-cu12==2.20.5 (from torch>=1.8.0->ultralytics)\n",
            "  Using cached nvidia_nccl_cu12-2.20.5-py3-none-manylinux2014_x86_64.whl (176.2 MB)\n",
            "Collecting nvidia-nvtx-cu12==12.1.105 (from torch>=1.8.0->ultralytics)\n",
            "  Using cached nvidia_nvtx_cu12-12.1.105-py3-none-manylinux1_x86_64.whl (99 kB)\n",
            "Requirement already satisfied: triton==2.3.0 in /usr/local/lib/python3.10/dist-packages (from torch>=1.8.0->ultralytics) (2.3.0)\n",
            "Collecting nvidia-nvjitlink-cu12 (from nvidia-cusolver-cu12==11.4.5.107->torch>=1.8.0->ultralytics)\n",
            "  Downloading nvidia_nvjitlink_cu12-12.5.40-py3-none-manylinux2014_x86_64.whl (21.3 MB)\n",
            "\u001b[2K     \u001b[90m━━━━━━━━━━━━━━━━━━━━━━━━━━━━━━━━━━━━━━━━\u001b[0m \u001b[32m21.3/21.3 MB\u001b[0m \u001b[31m67.5 MB/s\u001b[0m eta \u001b[36m0:00:00\u001b[0m\n",
            "\u001b[?25hRequirement already satisfied: six>=1.5 in /usr/local/lib/python3.10/dist-packages (from python-dateutil>=2.7->matplotlib>=3.3.0->ultralytics) (1.16.0)\n",
            "Requirement already satisfied: MarkupSafe>=2.0 in /usr/local/lib/python3.10/dist-packages (from jinja2->torch>=1.8.0->ultralytics) (2.1.5)\n",
            "Requirement already satisfied: mpmath<1.4.0,>=1.1.0 in /usr/local/lib/python3.10/dist-packages (from sympy->torch>=1.8.0->ultralytics) (1.3.0)\n",
            "Installing collected packages: nvidia-nvtx-cu12, nvidia-nvjitlink-cu12, nvidia-nccl-cu12, nvidia-curand-cu12, nvidia-cufft-cu12, nvidia-cuda-runtime-cu12, nvidia-cuda-nvrtc-cu12, nvidia-cuda-cupti-cu12, nvidia-cublas-cu12, nvidia-cusparse-cu12, nvidia-cudnn-cu12, nvidia-cusolver-cu12, ultralytics-thop, ultralytics\n",
            "Successfully installed nvidia-cublas-cu12-12.1.3.1 nvidia-cuda-cupti-cu12-12.1.105 nvidia-cuda-nvrtc-cu12-12.1.105 nvidia-cuda-runtime-cu12-12.1.105 nvidia-cudnn-cu12-8.9.2.26 nvidia-cufft-cu12-11.0.2.54 nvidia-curand-cu12-10.3.2.106 nvidia-cusolver-cu12-11.4.5.107 nvidia-cusparse-cu12-12.1.0.106 nvidia-nccl-cu12-2.20.5 nvidia-nvjitlink-cu12-12.5.40 nvidia-nvtx-cu12-12.1.105 ultralytics-8.2.28 ultralytics-thop-0.2.7\n"
          ]
        }
      ]
    },
    {
      "cell_type": "code",
      "source": [
        "!curl -L \"https://app.roboflow.com/ds/WMQAcdtDwg?key=w1H7LNKSY2\" > roboflow.zip; unzip roboflow.zip; rm roboflow.zip"
      ],
      "metadata": {
        "id": "xfzzMTdEtGXA",
        "colab": {
          "base_uri": "https://localhost:8080/"
        },
        "outputId": "f607d077-dd48-4387-9980-f3b372e0d612"
      },
      "execution_count": null,
      "outputs": [
        {
          "output_type": "stream",
          "name": "stdout",
          "text": [
            "  % Total    % Received % Xferd  Average Speed   Time    Time     Time  Current\n",
            "                                 Dload  Upload   Total   Spent    Left  Speed\n",
            "100   903  100   903    0     0   1167      0 --:--:-- --:--:-- --:--:--  1168\n",
            "100 27.7M  100 27.7M    0     0  6871k      0  0:00:04  0:00:04 --:--:-- 9577k\n",
            "Archive:  roboflow.zip\n",
            "  inflating: README.dataset.txt      \n",
            "  inflating: README.roboflow.txt     \n",
            "  inflating: data.yaml               \n",
            "   creating: train/\n",
            "   creating: train/images/\n",
            " extracting: train/images/10a_jpg.rf.289e291c662286485fac67eda5cb25fd.jpg  \n",
            " extracting: train/images/10a_jpg.rf.cc7c774918c567e48407254b2ff7084f.jpg  \n",
            " extracting: train/images/10c_jpg.rf.4a86d96afa0d3744d7c4ff20dfb406c3.jpg  \n",
            " extracting: train/images/10c_jpg.rf.d6c1a54e8202fc02602bd3a90a000246.jpg  \n",
            " extracting: train/images/10d_jpg.rf.2a1d245bc50364ed3f98c168996c95b0.jpg  \n",
            " extracting: train/images/10d_jpg.rf.6c5e8c7dd64fc9cf13aaac0b329ecf4d.jpg  \n",
            " extracting: train/images/11a_jpg.rf.50ef51fb94f03f13e43a6ec940adb21c.jpg  \n",
            " extracting: train/images/11a_jpg.rf.d5b9487637fb501182e64f2b362cfb8f.jpg  \n",
            " extracting: train/images/11b_jpg.rf.03d7c8d5c30461bf2bb6ea726fbbee16.jpg  \n",
            " extracting: train/images/11b_jpg.rf.dc1b7baa531b035ff8ad484e3a11f03c.jpg  \n",
            " extracting: train/images/11c_jpg.rf.07dd3b8f1631eb5f4a8c61de7831fc16.jpg  \n",
            " extracting: train/images/11c_jpg.rf.71ef07256685cfe3195f44f6e754f690.jpg  \n",
            " extracting: train/images/11d_jpg.rf.ee8a838c2f2cd72ebda52bc7b162964b.jpg  \n",
            " extracting: train/images/12a_jpg.rf.f1a63ce3a397d3ae06ea9e28171bd952.jpg  \n",
            " extracting: train/images/12a_jpg.rf.fd98c3715bdee65752e89c176c6cfce8.jpg  \n",
            " extracting: train/images/12b_jpg.rf.ad4cd811ffbf744734a7e7f91f02e456.jpg  \n",
            " extracting: train/images/12b_jpg.rf.ef33986a624277c216c4157190f720e5.jpg  \n",
            " extracting: train/images/12c_jpg.rf.34b5ac77dc219fb596c90045424c4c52.jpg  \n",
            " extracting: train/images/12c_jpg.rf.9d54b96c76a14077242861226ac7af9f.jpg  \n",
            " extracting: train/images/12d_jpg.rf.e2fa11f8335b4489aa48d34ae2529d1a.jpg  \n",
            " extracting: train/images/13a_jpg.rf.066d9aca5f607cf60bddf898194c13be.jpg  \n",
            " extracting: train/images/13a_jpg.rf.2f77734f1fe1e8203ac9415dc891a632.jpg  \n",
            " extracting: train/images/13b_jpg.rf.438d13e8ac5b17b9c4b4966cf79e2dba.jpg  \n",
            " extracting: train/images/13c_jpg.rf.0b847957a400291af41fefea090c0c1d.jpg  \n",
            " extracting: train/images/13c_jpg.rf.a349da7b1794b6c2042ddb4033bddcc9.jpg  \n",
            " extracting: train/images/13d_jpg.rf.958c31b58dd10bc0a60a50be10ee3eb2.jpg  \n",
            " extracting: train/images/14a_jpg.rf.6f4608f398f0937f09663d4b0fc3d12e.jpg  \n",
            " extracting: train/images/14a_jpg.rf.fccc9c7fe075091a9f940b14be60c73c.jpg  \n",
            " extracting: train/images/14b_jpg.rf.39cc328d019c8325861dbb2db7eb6cfe.jpg  \n",
            " extracting: train/images/14c_jpg.rf.9151abb2b8c6884d64b997c8572d1491.jpg  \n",
            " extracting: train/images/14c_jpg.rf.cc9a4c3d45f934e3e4e7fc41bac37a02.jpg  \n",
            " extracting: train/images/14d_jpg.rf.45b5f7878a072334ea5a517f02438545.jpg  \n",
            " extracting: train/images/14d_jpg.rf.cf7d16db2c7e454a2c0d86d56d1db24f.jpg  \n",
            " extracting: train/images/1a_jpg.rf.d81d72a4e6787f0edb1bd3c94dbf17d7.jpg  \n",
            " extracting: train/images/1b_jpg.rf.71cc391fd6f3fa3eaa39ec01cce8416a.jpg  \n",
            " extracting: train/images/1c_jpg.rf.7e99ecaaa3f0ab3c441752c1aa5e21f0.jpg  \n",
            " extracting: train/images/1d_jpg.rf.3c52d76f0634be4cc03e32fb12abd092.jpg  \n",
            " extracting: train/images/1d_jpg.rf.626e86906c280e956b68a521905a41d6.jpg  \n",
            " extracting: train/images/2a_jpg.rf.787ac62bdb758d8770badec4052af5ef.jpg  \n",
            " extracting: train/images/2a_jpg.rf.c3dd5f4e5e37441b704799b533752f6f.jpg  \n",
            " extracting: train/images/2b_jpg.rf.70b843b40abbce64ca12c97469487624.jpg  \n",
            " extracting: train/images/2b_jpg.rf.957c72c57b425fba2d73d2e88c2561ba.jpg  \n",
            " extracting: train/images/2c_jpg.rf.3c23449610ea5b152f9e4fc9f5f29565.jpg  \n",
            " extracting: train/images/2c_jpg.rf.6310325318937aeaf1128b823e1b90e5.jpg  \n",
            " extracting: train/images/2d_jpg.rf.90d6aa7c03813eb7070544f98cb7cdcb.jpg  \n",
            " extracting: train/images/2d_jpg.rf.bb058c902990f621d50dc7efaa3153f9.jpg  \n",
            " extracting: train/images/3a_jpg.rf.5f5b4abb06c8df9c606ffca2ab567614.jpg  \n",
            " extracting: train/images/3a_jpg.rf.659793d508c535459eb3a2e233789451.jpg  \n",
            " extracting: train/images/3b_jpg.rf.2e88b7118e3f2056c94dc503107e9363.jpg  \n",
            " extracting: train/images/3b_jpg.rf.684e06dbb15dd78d2411776b3ab6eca3.jpg  \n",
            " extracting: train/images/3c_jpg.rf.1c7c19e2cd89f5d4615f9473e44d64f6.jpg  \n",
            " extracting: train/images/3c_jpg.rf.1cfa8354dad47b1230cce18b1ae94582.jpg  \n",
            " extracting: train/images/3d_jpg.rf.17d04ad4e5f2ba273ac137e513adeff0.jpg  \n",
            " extracting: train/images/3d_jpg.rf.9009392c46e542fc4d15c0b0759dc962.jpg  \n",
            " extracting: train/images/4a_jpg.rf.125ceb4b58b233bd7b7ba01c9ae9edc2.jpg  \n",
            " extracting: train/images/4a_jpg.rf.b661d760fb2bf133e4ffb41be5fe3ca5.jpg  \n",
            " extracting: train/images/4b_jpg.rf.330059119e8060e08b7d74e4245aa7c5.jpg  \n",
            " extracting: train/images/4b_jpg.rf.a673170b1e7c6151b07a48ef81312eea.jpg  \n",
            " extracting: train/images/4c_jpg.rf.1843399602f4f9b0603477ade6a73008.jpg  \n",
            " extracting: train/images/4c_jpg.rf.ab0366cfd4ff6b4a6a12a81a3c022636.jpg  \n",
            " extracting: train/images/4d_jpg.rf.dafa0a22eafc67faf6d90cf770e56a37.jpg  \n",
            " extracting: train/images/4d_jpg.rf.e418134aee5049a9743aab17a625f551.jpg  \n",
            " extracting: train/images/5a_jpg.rf.338e013598814e10019e454866323614.jpg  \n",
            " extracting: train/images/5a_jpg.rf.c2e9429a4b066d88ebcb56e65ed7c4bb.jpg  \n",
            " extracting: train/images/5b_jpg.rf.140319e6d532cd7c7ba56694e83ba822.jpg  \n",
            " extracting: train/images/5b_jpg.rf.264bf812ddc643522673f239a94ed260.jpg  \n",
            " extracting: train/images/5c_jpg.rf.3c0e870c253c32645e19e96907f707da.jpg  \n",
            " extracting: train/images/5c_jpg.rf.721278c0a8902be8e1b7836730989be7.jpg  \n",
            " extracting: train/images/5d_jpg.rf.178a0ffce65c65974abc1ea4cda9287d.jpg  \n",
            " extracting: train/images/5d_jpg.rf.84944b9c318913b53a5090d1af94c10f.jpg  \n",
            " extracting: train/images/6a_jpg.rf.b2bab8fce4874f2d01259a4da423522e.jpg  \n",
            " extracting: train/images/6a_jpg.rf.c62b682d1d8a5a1ec7e0b78a761a106c.jpg  \n",
            " extracting: train/images/6b_jpg.rf.7d931653493011f130c42b465f6a66f4.jpg  \n",
            " extracting: train/images/6c_jpg.rf.e77234be845e38ed4f888bbe091b3ef9.jpg  \n",
            " extracting: train/images/6d_jpg.rf.4f4d23374d68d1f2a6f8c4a36736f513.jpg  \n",
            " extracting: train/images/6d_jpg.rf.ef1b6853180cb3b5157d58cc40b3c498.jpg  \n",
            " extracting: train/images/7a_jpg.rf.62420dcadfbaa72e1cb6e63f8982dd36.jpg  \n",
            " extracting: train/images/7a_jpg.rf.f3c0107a88f53aa81955b0fd822195ae.jpg  \n",
            " extracting: train/images/7b_jpg.rf.0b002c7d83a5e557cf53161e49e08280.jpg  \n",
            " extracting: train/images/7b_jpg.rf.e98d8a71668cca2385ef177719944673.jpg  \n",
            " extracting: train/images/7c_jpg.rf.e059145ec4a5be3bcc616df463a443eb.jpg  \n",
            " extracting: train/images/7d_jpg.rf.7e46204fcd0150e42b67c9726d2ada96.jpg  \n",
            " extracting: train/images/7d_jpg.rf.dfcaf6603486fbf15e59e43121f1b0a0.jpg  \n",
            " extracting: train/images/8a_jpg.rf.26ac93366b57ea700f1f07c8d65b55ad.jpg  \n",
            " extracting: train/images/8a_jpg.rf.7f42357c9c212ef75926d8adfc896a07.jpg  \n",
            " extracting: train/images/8b_jpg.rf.6e4325f7349f1a75778e277c70726b70.jpg  \n",
            " extracting: train/images/8b_jpg.rf.c0c12c1e1867e778c0a143ab5f86efb9.jpg  \n",
            " extracting: train/images/8c_jpg.rf.56d3234f826bdb11329e9a94ff131c4a.jpg  \n",
            " extracting: train/images/8d_jpg.rf.724d94de954cb0ffc422e80aedfe4db4.jpg  \n",
            " extracting: train/images/8d_jpg.rf.7b8393861145b30b966ea713bb607e27.jpg  \n",
            " extracting: train/images/9a_jpg.rf.0c44ea823bfa08e1821fee597992e0be.jpg  \n",
            " extracting: train/images/9a_jpg.rf.9b60b7df6c5f952df7dcb49e4c3f87e3.jpg  \n",
            " extracting: train/images/9b_jpg.rf.90f8b1e127e2fe357db2bcad3fb22937.jpg  \n",
            " extracting: train/images/9b_jpg.rf.ec0b045865d701d110d633b0b5a8aa96.jpg  \n",
            " extracting: train/images/9c_jpg.rf.a52a42f6d1b001abc11ba5aab951f8b0.jpg  \n",
            " extracting: train/images/9c_jpg.rf.f296a8e8ee20b0a0974b0040db5d59bf.jpg  \n",
            " extracting: train/images/9d_jpg.rf.65b02f5634ed8778d65865202b4b8c1b.jpg  \n",
            "   creating: train/labels/\n",
            "  inflating: train/labels/10a_jpg.rf.289e291c662286485fac67eda5cb25fd.txt  \n",
            "  inflating: train/labels/10a_jpg.rf.cc7c774918c567e48407254b2ff7084f.txt  \n",
            "  inflating: train/labels/10c_jpg.rf.4a86d96afa0d3744d7c4ff20dfb406c3.txt  \n",
            "  inflating: train/labels/10c_jpg.rf.d6c1a54e8202fc02602bd3a90a000246.txt  \n",
            "  inflating: train/labels/10d_jpg.rf.2a1d245bc50364ed3f98c168996c95b0.txt  \n",
            "  inflating: train/labels/10d_jpg.rf.6c5e8c7dd64fc9cf13aaac0b329ecf4d.txt  \n",
            "  inflating: train/labels/11a_jpg.rf.50ef51fb94f03f13e43a6ec940adb21c.txt  \n",
            "  inflating: train/labels/11a_jpg.rf.d5b9487637fb501182e64f2b362cfb8f.txt  \n",
            "  inflating: train/labels/11b_jpg.rf.03d7c8d5c30461bf2bb6ea726fbbee16.txt  \n",
            "  inflating: train/labels/11b_jpg.rf.dc1b7baa531b035ff8ad484e3a11f03c.txt  \n",
            "  inflating: train/labels/11c_jpg.rf.07dd3b8f1631eb5f4a8c61de7831fc16.txt  \n",
            "  inflating: train/labels/11c_jpg.rf.71ef07256685cfe3195f44f6e754f690.txt  \n",
            "  inflating: train/labels/11d_jpg.rf.ee8a838c2f2cd72ebda52bc7b162964b.txt  \n",
            "  inflating: train/labels/12a_jpg.rf.f1a63ce3a397d3ae06ea9e28171bd952.txt  \n",
            "  inflating: train/labels/12a_jpg.rf.fd98c3715bdee65752e89c176c6cfce8.txt  \n",
            "  inflating: train/labels/12b_jpg.rf.ad4cd811ffbf744734a7e7f91f02e456.txt  \n",
            "  inflating: train/labels/12b_jpg.rf.ef33986a624277c216c4157190f720e5.txt  \n",
            "  inflating: train/labels/12c_jpg.rf.34b5ac77dc219fb596c90045424c4c52.txt  \n",
            "  inflating: train/labels/12c_jpg.rf.9d54b96c76a14077242861226ac7af9f.txt  \n",
            "  inflating: train/labels/12d_jpg.rf.e2fa11f8335b4489aa48d34ae2529d1a.txt  \n",
            "  inflating: train/labels/13a_jpg.rf.066d9aca5f607cf60bddf898194c13be.txt  \n",
            "  inflating: train/labels/13a_jpg.rf.2f77734f1fe1e8203ac9415dc891a632.txt  \n",
            "  inflating: train/labels/13b_jpg.rf.438d13e8ac5b17b9c4b4966cf79e2dba.txt  \n",
            "  inflating: train/labels/13c_jpg.rf.0b847957a400291af41fefea090c0c1d.txt  \n",
            "  inflating: train/labels/13c_jpg.rf.a349da7b1794b6c2042ddb4033bddcc9.txt  \n",
            "  inflating: train/labels/13d_jpg.rf.958c31b58dd10bc0a60a50be10ee3eb2.txt  \n",
            "  inflating: train/labels/14a_jpg.rf.6f4608f398f0937f09663d4b0fc3d12e.txt  \n",
            "  inflating: train/labels/14a_jpg.rf.fccc9c7fe075091a9f940b14be60c73c.txt  \n",
            "  inflating: train/labels/14b_jpg.rf.39cc328d019c8325861dbb2db7eb6cfe.txt  \n",
            "  inflating: train/labels/14c_jpg.rf.9151abb2b8c6884d64b997c8572d1491.txt  \n",
            "  inflating: train/labels/14c_jpg.rf.cc9a4c3d45f934e3e4e7fc41bac37a02.txt  \n",
            "  inflating: train/labels/14d_jpg.rf.45b5f7878a072334ea5a517f02438545.txt  \n",
            "  inflating: train/labels/14d_jpg.rf.cf7d16db2c7e454a2c0d86d56d1db24f.txt  \n",
            "  inflating: train/labels/1a_jpg.rf.d81d72a4e6787f0edb1bd3c94dbf17d7.txt  \n",
            "  inflating: train/labels/1b_jpg.rf.71cc391fd6f3fa3eaa39ec01cce8416a.txt  \n",
            "  inflating: train/labels/1c_jpg.rf.7e99ecaaa3f0ab3c441752c1aa5e21f0.txt  \n",
            "  inflating: train/labels/1d_jpg.rf.3c52d76f0634be4cc03e32fb12abd092.txt  \n",
            "  inflating: train/labels/1d_jpg.rf.626e86906c280e956b68a521905a41d6.txt  \n",
            "  inflating: train/labels/2a_jpg.rf.787ac62bdb758d8770badec4052af5ef.txt  \n",
            "  inflating: train/labels/2a_jpg.rf.c3dd5f4e5e37441b704799b533752f6f.txt  \n",
            "  inflating: train/labels/2b_jpg.rf.70b843b40abbce64ca12c97469487624.txt  \n",
            "  inflating: train/labels/2b_jpg.rf.957c72c57b425fba2d73d2e88c2561ba.txt  \n",
            "  inflating: train/labels/2c_jpg.rf.3c23449610ea5b152f9e4fc9f5f29565.txt  \n",
            "  inflating: train/labels/2c_jpg.rf.6310325318937aeaf1128b823e1b90e5.txt  \n",
            "  inflating: train/labels/2d_jpg.rf.90d6aa7c03813eb7070544f98cb7cdcb.txt  \n",
            "  inflating: train/labels/2d_jpg.rf.bb058c902990f621d50dc7efaa3153f9.txt  \n",
            "  inflating: train/labels/3a_jpg.rf.5f5b4abb06c8df9c606ffca2ab567614.txt  \n",
            "  inflating: train/labels/3a_jpg.rf.659793d508c535459eb3a2e233789451.txt  \n",
            "  inflating: train/labels/3b_jpg.rf.2e88b7118e3f2056c94dc503107e9363.txt  \n",
            "  inflating: train/labels/3b_jpg.rf.684e06dbb15dd78d2411776b3ab6eca3.txt  \n",
            "  inflating: train/labels/3c_jpg.rf.1c7c19e2cd89f5d4615f9473e44d64f6.txt  \n",
            "  inflating: train/labels/3c_jpg.rf.1cfa8354dad47b1230cce18b1ae94582.txt  \n",
            "  inflating: train/labels/3d_jpg.rf.17d04ad4e5f2ba273ac137e513adeff0.txt  \n",
            "  inflating: train/labels/3d_jpg.rf.9009392c46e542fc4d15c0b0759dc962.txt  \n",
            "  inflating: train/labels/4a_jpg.rf.125ceb4b58b233bd7b7ba01c9ae9edc2.txt  \n",
            "  inflating: train/labels/4a_jpg.rf.b661d760fb2bf133e4ffb41be5fe3ca5.txt  \n",
            "  inflating: train/labels/4b_jpg.rf.330059119e8060e08b7d74e4245aa7c5.txt  \n",
            "  inflating: train/labels/4b_jpg.rf.a673170b1e7c6151b07a48ef81312eea.txt  \n",
            "  inflating: train/labels/4c_jpg.rf.1843399602f4f9b0603477ade6a73008.txt  \n",
            "  inflating: train/labels/4c_jpg.rf.ab0366cfd4ff6b4a6a12a81a3c022636.txt  \n",
            "  inflating: train/labels/4d_jpg.rf.dafa0a22eafc67faf6d90cf770e56a37.txt  \n",
            "  inflating: train/labels/4d_jpg.rf.e418134aee5049a9743aab17a625f551.txt  \n",
            "  inflating: train/labels/5a_jpg.rf.338e013598814e10019e454866323614.txt  \n",
            "  inflating: train/labels/5a_jpg.rf.c2e9429a4b066d88ebcb56e65ed7c4bb.txt  \n",
            "  inflating: train/labels/5b_jpg.rf.140319e6d532cd7c7ba56694e83ba822.txt  \n",
            "  inflating: train/labels/5b_jpg.rf.264bf812ddc643522673f239a94ed260.txt  \n",
            "  inflating: train/labels/5c_jpg.rf.3c0e870c253c32645e19e96907f707da.txt  \n",
            "  inflating: train/labels/5c_jpg.rf.721278c0a8902be8e1b7836730989be7.txt  \n",
            "  inflating: train/labels/5d_jpg.rf.178a0ffce65c65974abc1ea4cda9287d.txt  \n",
            "  inflating: train/labels/5d_jpg.rf.84944b9c318913b53a5090d1af94c10f.txt  \n",
            "  inflating: train/labels/6a_jpg.rf.b2bab8fce4874f2d01259a4da423522e.txt  \n",
            "  inflating: train/labels/6a_jpg.rf.c62b682d1d8a5a1ec7e0b78a761a106c.txt  \n",
            "  inflating: train/labels/6b_jpg.rf.7d931653493011f130c42b465f6a66f4.txt  \n",
            "  inflating: train/labels/6c_jpg.rf.e77234be845e38ed4f888bbe091b3ef9.txt  \n",
            "  inflating: train/labels/6d_jpg.rf.4f4d23374d68d1f2a6f8c4a36736f513.txt  \n",
            "  inflating: train/labels/6d_jpg.rf.ef1b6853180cb3b5157d58cc40b3c498.txt  \n",
            "  inflating: train/labels/7a_jpg.rf.62420dcadfbaa72e1cb6e63f8982dd36.txt  \n",
            "  inflating: train/labels/7a_jpg.rf.f3c0107a88f53aa81955b0fd822195ae.txt  \n",
            "  inflating: train/labels/7b_jpg.rf.0b002c7d83a5e557cf53161e49e08280.txt  \n",
            "  inflating: train/labels/7b_jpg.rf.e98d8a71668cca2385ef177719944673.txt  \n",
            "  inflating: train/labels/7c_jpg.rf.e059145ec4a5be3bcc616df463a443eb.txt  \n",
            "  inflating: train/labels/7d_jpg.rf.7e46204fcd0150e42b67c9726d2ada96.txt  \n",
            "  inflating: train/labels/7d_jpg.rf.dfcaf6603486fbf15e59e43121f1b0a0.txt  \n",
            "  inflating: train/labels/8a_jpg.rf.26ac93366b57ea700f1f07c8d65b55ad.txt  \n",
            "  inflating: train/labels/8a_jpg.rf.7f42357c9c212ef75926d8adfc896a07.txt  \n",
            "  inflating: train/labels/8b_jpg.rf.6e4325f7349f1a75778e277c70726b70.txt  \n",
            "  inflating: train/labels/8b_jpg.rf.c0c12c1e1867e778c0a143ab5f86efb9.txt  \n",
            "  inflating: train/labels/8c_jpg.rf.56d3234f826bdb11329e9a94ff131c4a.txt  \n",
            "  inflating: train/labels/8d_jpg.rf.724d94de954cb0ffc422e80aedfe4db4.txt  \n",
            "  inflating: train/labels/8d_jpg.rf.7b8393861145b30b966ea713bb607e27.txt  \n",
            "  inflating: train/labels/9a_jpg.rf.0c44ea823bfa08e1821fee597992e0be.txt  \n",
            "  inflating: train/labels/9a_jpg.rf.9b60b7df6c5f952df7dcb49e4c3f87e3.txt  \n",
            "  inflating: train/labels/9b_jpg.rf.90f8b1e127e2fe357db2bcad3fb22937.txt  \n",
            "  inflating: train/labels/9b_jpg.rf.ec0b045865d701d110d633b0b5a8aa96.txt  \n",
            "  inflating: train/labels/9c_jpg.rf.a52a42f6d1b001abc11ba5aab951f8b0.txt  \n",
            "  inflating: train/labels/9c_jpg.rf.f296a8e8ee20b0a0974b0040db5d59bf.txt  \n",
            "  inflating: train/labels/9d_jpg.rf.65b02f5634ed8778d65865202b4b8c1b.txt  \n",
            "   creating: valid/\n",
            "   creating: valid/images/\n",
            " extracting: valid/images/10b_jpg.rf.3eeb5d3e57235ddc359b1071b065f9d2.jpg  \n",
            "   creating: valid/labels/\n",
            "  inflating: valid/labels/10b_jpg.rf.3eeb5d3e57235ddc359b1071b065f9d2.txt  \n"
          ]
        }
      ]
    },
    {
      "cell_type": "code",
      "source": [
        "import locale\n",
        "locale.getpreferredencoding = lambda: \"UTF-8\"\n",
        "!pip install unrar\n",
        "!unrar x /content/drive/MyDrive/Test_Data.rar"
      ],
      "metadata": {
        "id": "yiB9rtPis-4w",
        "colab": {
          "base_uri": "https://localhost:8080/"
        },
        "outputId": "d6f81945-aa79-488d-f6e6-edee223462c0"
      },
      "execution_count": null,
      "outputs": [
        {
          "output_type": "stream",
          "name": "stdout",
          "text": [
            "Collecting unrar\n",
            "  Downloading unrar-0.4-py3-none-any.whl (25 kB)\n",
            "Installing collected packages: unrar\n",
            "Successfully installed unrar-0.4\n",
            "\n",
            "UNRAR 6.11 beta 1 freeware      Copyright (c) 1993-2022 Alexander Roshal\n",
            "\n",
            "\n",
            "Extracting from /content/drive/MyDrive/Test_Data.rar\n",
            "\n",
            "Creating    Test Data                                                 OK\n",
            "Extracting  Test Data/1.png                                              \b\b\b\b  4%\b\b\b\b\b  OK \n",
            "Extracting  Test Data/11.png                                             \b\b\b\b  8%\b\b\b\b\b  OK \n",
            "Extracting  Test Data/12.png                                             \b\b\b\b 12%\b\b\b\b\b  OK \n",
            "Extracting  Test Data/13.png                                             \b\b\b\b 16%\b\b\b\b\b  OK \n",
            "Extracting  Test Data/14.png                                             \b\b\b\b 20%\b\b\b\b\b  OK \n",
            "Extracting  Test Data/15.png                                             \b\b\b\b 24%\b\b\b\b\b  OK \n",
            "Extracting  Test Data/16.png                                             \b\b\b\b 28%\b\b\b\b\b  OK \n",
            "Extracting  Test Data/17.png                                             \b\b\b\b 33%\b\b\b\b\b  OK \n",
            "Extracting  Test Data/18.png                                             \b\b\b\b 37%\b\b\b\b\b  OK \n",
            "Extracting  Test Data/2.png                                              \b\b\b\b 40%\b\b\b\b\b  OK \n",
            "Extracting  Test Data/3.png                                              \b\b\b\b 45%\b\b\b\b\b  OK \n",
            "Extracting  Test Data/4.png                                              \b\b\b\b 48%\b\b\b\b\b  OK \n",
            "Extracting  Test Data/5.png                                              \b\b\b\b 52%\b\b\b\b\b  OK \n",
            "Extracting  Test Data/6.png                                              \b\b\b\b 56%\b\b\b\b\b  OK \n",
            "Extracting  Test Data/7.png                                              \b\b\b\b 60%\b\b\b\b\b  OK \n",
            "Extracting  Test Data/8.png                                              \b\b\b\b 65%\b\b\b\b\b  OK \n",
            "Extracting  Test Data/9.png                                              \b\b\b\b 69%\b\b\b\b\b  OK \n",
            "Extracting  Test Data/test_1.png                                         \b\b\b\b 72%\b\b\b\b 75%\b\b\b\b 78%\b\b\b\b 81%\b\b\b\b\b  OK \n",
            "Extracting  Test Data/test_2.png                                         \b\b\b\b 84%\b\b\b\b\b  OK \n",
            "Extracting  Test Data/test_3.png                                         \b\b\b\b 87%\b\b\b\b 90%\b\b\b\b 93%\b\b\b\b 96%\b\b\b\b 99%\b\b\b\b\b  OK \n",
            "All OK\n"
          ]
        }
      ]
    },
    {
      "cell_type": "markdown",
      "source": [
        "# Обучение"
      ],
      "metadata": {
        "id": "kZWKh5oAByAd"
      }
    },
    {
      "cell_type": "code",
      "source": [
        "from ultralytics import YOLO\n",
        "\n",
        "# Load a model\n",
        "#model = YOLO('yolov8s-seg.yaml')  # build a new model from YAML\n",
        "#model = YOLO('yolov8s-seg.pt')  # load a pretrained model (recommended for training)\n",
        "model = YOLO('yolov8s-seg.yaml').load('yolov8s.pt')  # build from YAML and transfer weights"
      ],
      "metadata": {
        "id": "kXZOmuk7tRli",
        "colab": {
          "base_uri": "https://localhost:8080/"
        },
        "outputId": "8f51506c-9c0e-4986-d9f0-5f971d610661"
      },
      "execution_count": null,
      "outputs": [
        {
          "output_type": "stream",
          "name": "stdout",
          "text": [
            "Downloading https://github.com/ultralytics/assets/releases/download/v8.2.0/yolov8s.pt to 'yolov8s.pt'...\n"
          ]
        },
        {
          "output_type": "stream",
          "name": "stderr",
          "text": [
            "100%|██████████| 21.5M/21.5M [00:00<00:00, 155MB/s]\n"
          ]
        },
        {
          "output_type": "stream",
          "name": "stdout",
          "text": [
            "Transferred 355/417 items from pretrained weights\n"
          ]
        }
      ]
    },
    {
      "cell_type": "code",
      "source": [
        "results = model.train(data='/content/data.yaml', epochs=40, imgsz=640)"
      ],
      "metadata": {
        "colab": {
          "base_uri": "https://localhost:8080/"
        },
        "id": "N0RFww9OtY2q",
        "outputId": "36ad156a-47b6-41c2-fec0-5a6ef9cc18e9"
      },
      "execution_count": null,
      "outputs": [
        {
          "output_type": "stream",
          "name": "stdout",
          "text": [
            "Ultralytics YOLOv8.2.28 🚀 Python-3.10.12 torch-2.3.0+cu121 CUDA:0 (Tesla T4, 15102MiB)\n",
            "\u001b[34m\u001b[1mengine/trainer: \u001b[0mtask=segment, mode=train, model=yolov8s-seg.yaml, data=/content/data.yaml, epochs=40, time=None, patience=100, batch=16, imgsz=640, save=True, save_period=-1, cache=False, device=None, workers=8, project=None, name=train22, exist_ok=False, pretrained=True, optimizer=auto, verbose=True, seed=0, deterministic=True, single_cls=False, rect=False, cos_lr=False, close_mosaic=10, resume=False, amp=True, fraction=1.0, profile=False, freeze=None, multi_scale=False, overlap_mask=True, mask_ratio=4, dropout=0.0, val=True, split=val, save_json=False, save_hybrid=False, conf=None, iou=0.7, max_det=300, half=False, dnn=False, plots=True, source=None, vid_stride=1, stream_buffer=False, visualize=False, augment=False, agnostic_nms=False, classes=None, retina_masks=False, embed=None, show=False, save_frames=False, save_txt=False, save_conf=False, save_crop=False, show_labels=True, show_conf=True, show_boxes=True, line_width=None, format=torchscript, keras=False, optimize=False, int8=False, dynamic=False, simplify=False, opset=None, workspace=4, nms=False, lr0=0.01, lrf=0.01, momentum=0.937, weight_decay=0.0005, warmup_epochs=3.0, warmup_momentum=0.8, warmup_bias_lr=0.0, box=7.5, cls=0.5, dfl=1.5, pose=12.0, kobj=1.0, label_smoothing=0.0, nbs=64, hsv_h=0.015, hsv_s=0.7, hsv_v=0.4, degrees=0.0, translate=0.1, scale=0.5, shear=0.0, perspective=0.0, flipud=0.0, fliplr=0.5, bgr=0.0, mosaic=0.0, mixup=0.0, copy_paste=0.0, auto_augment=randaugment, erasing=0.4, crop_fraction=1.0, cfg=None, tracker=botsort.yaml, save_dir=runs/segment/train22\n",
            "\n",
            "                   from  n    params  module                                       arguments                     \n",
            "  0                  -1  1       928  ultralytics.nn.modules.conv.Conv             [3, 32, 3, 2]                 \n",
            "  1                  -1  1     18560  ultralytics.nn.modules.conv.Conv             [32, 64, 3, 2]                \n",
            "  2                  -1  1     29056  ultralytics.nn.modules.block.C2f             [64, 64, 1, True]             \n",
            "  3                  -1  1     73984  ultralytics.nn.modules.conv.Conv             [64, 128, 3, 2]               \n",
            "  4                  -1  2    197632  ultralytics.nn.modules.block.C2f             [128, 128, 2, True]           \n",
            "  5                  -1  1    295424  ultralytics.nn.modules.conv.Conv             [128, 256, 3, 2]              \n",
            "  6                  -1  2    788480  ultralytics.nn.modules.block.C2f             [256, 256, 2, True]           \n",
            "  7                  -1  1   1180672  ultralytics.nn.modules.conv.Conv             [256, 512, 3, 2]              \n",
            "  8                  -1  1   1838080  ultralytics.nn.modules.block.C2f             [512, 512, 1, True]           \n",
            "  9                  -1  1    656896  ultralytics.nn.modules.block.SPPF            [512, 512, 5]                 \n",
            " 10                  -1  1         0  torch.nn.modules.upsampling.Upsample         [None, 2, 'nearest']          \n",
            " 11             [-1, 6]  1         0  ultralytics.nn.modules.conv.Concat           [1]                           \n",
            " 12                  -1  1    591360  ultralytics.nn.modules.block.C2f             [768, 256, 1]                 \n",
            " 13                  -1  1         0  torch.nn.modules.upsampling.Upsample         [None, 2, 'nearest']          \n",
            " 14             [-1, 4]  1         0  ultralytics.nn.modules.conv.Concat           [1]                           \n",
            " 15                  -1  1    148224  ultralytics.nn.modules.block.C2f             [384, 128, 1]                 \n",
            " 16                  -1  1    147712  ultralytics.nn.modules.conv.Conv             [128, 128, 3, 2]              \n",
            " 17            [-1, 12]  1         0  ultralytics.nn.modules.conv.Concat           [1]                           \n",
            " 18                  -1  1    493056  ultralytics.nn.modules.block.C2f             [384, 256, 1]                 \n",
            " 19                  -1  1    590336  ultralytics.nn.modules.conv.Conv             [256, 256, 3, 2]              \n",
            " 20             [-1, 9]  1         0  ultralytics.nn.modules.conv.Concat           [1]                           \n",
            " 21                  -1  1   1969152  ultralytics.nn.modules.block.C2f             [768, 512, 1]                 \n",
            " 22        [15, 18, 21]  1   2770931  ultralytics.nn.modules.head.Segment          [1, 32, 128, [128, 256, 512]] \n",
            "YOLOv8s-seg summary: 261 layers, 11790483 parameters, 11790467 gradients, 42.7 GFLOPs\n",
            "\n",
            "Transferred 417/417 items from pretrained weights\n",
            "\u001b[34m\u001b[1mTensorBoard: \u001b[0mStart with 'tensorboard --logdir runs/segment/train22', view at http://localhost:6006/\n",
            "Freezing layer 'model.22.dfl.conv.weight'\n",
            "\u001b[34m\u001b[1mAMP: \u001b[0mrunning Automatic Mixed Precision (AMP) checks with YOLOv8n...\n",
            "\u001b[34m\u001b[1mAMP: \u001b[0mchecks passed ✅\n"
          ]
        },
        {
          "output_type": "stream",
          "name": "stderr",
          "text": [
            "\u001b[34m\u001b[1mtrain: \u001b[0mScanning /content/train/labels.cache... 97 images, 0 backgrounds, 0 corrupt: 100%|██████████| 97/97 [00:00<?, ?it/s]"
          ]
        },
        {
          "output_type": "stream",
          "name": "stdout",
          "text": [
            "\u001b[34m\u001b[1malbumentations: \u001b[0mBlur(p=0.01, blur_limit=(3, 7)), MedianBlur(p=0.01, blur_limit=(3, 7)), ToGray(p=0.01), CLAHE(p=0.01, clip_limit=(1, 4.0), tile_grid_size=(8, 8))\n"
          ]
        },
        {
          "output_type": "stream",
          "name": "stderr",
          "text": [
            "\n",
            "/usr/lib/python3.10/multiprocessing/popen_fork.py:66: RuntimeWarning: os.fork() was called. os.fork() is incompatible with multithreaded code, and JAX is multithreaded, so this will likely lead to a deadlock.\n",
            "  self.pid = os.fork()\n",
            "\u001b[34m\u001b[1mval: \u001b[0mScanning /content/valid/labels.cache... 1 images, 0 backgrounds, 0 corrupt: 100%|██████████| 1/1 [00:00<?, ?it/s]\n"
          ]
        },
        {
          "output_type": "stream",
          "name": "stdout",
          "text": [
            "Plotting labels to runs/segment/train22/labels.jpg... \n",
            "\u001b[34m\u001b[1moptimizer:\u001b[0m 'optimizer=auto' found, ignoring 'lr0=0.01' and 'momentum=0.937' and determining best 'optimizer', 'lr0' and 'momentum' automatically... \n",
            "\u001b[34m\u001b[1moptimizer:\u001b[0m AdamW(lr=0.002, momentum=0.9) with parameter groups 66 weight(decay=0.0), 77 weight(decay=0.0005), 76 bias(decay=0.0)\n",
            "\u001b[34m\u001b[1mTensorBoard: \u001b[0mmodel graph visualization added ✅\n",
            "Image sizes 640 train, 640 val\n",
            "Using 2 dataloader workers\n",
            "Logging results to \u001b[1mruns/segment/train22\u001b[0m\n",
            "Starting training for 40 epochs...\n",
            "\n",
            "      Epoch    GPU_mem   box_loss   seg_loss   cls_loss   dfl_loss  Instances       Size\n"
          ]
        },
        {
          "output_type": "stream",
          "name": "stderr",
          "text": [
            "       1/40      5.05G     0.2656     0.3425     0.2139     0.8495          1        640: 100%|██████████| 7/7 [00:05<00:00,  1.37it/s]\n",
            "                 Class     Images  Instances      Box(P          R      mAP50  mAP50-95)     Mask(P          R      mAP50  mAP50-95): 100%|██████████| 1/1 [00:00<00:00,  9.75it/s]"
          ]
        },
        {
          "output_type": "stream",
          "name": "stdout",
          "text": [
            "                   all          1          1          1          1      0.995      0.995          1          1      0.995      0.995\n"
          ]
        },
        {
          "output_type": "stream",
          "name": "stderr",
          "text": [
            "\n"
          ]
        },
        {
          "output_type": "stream",
          "name": "stdout",
          "text": [
            "\n",
            "      Epoch    GPU_mem   box_loss   seg_loss   cls_loss   dfl_loss  Instances       Size\n"
          ]
        },
        {
          "output_type": "stream",
          "name": "stderr",
          "text": [
            "       2/40       4.8G     0.3219     0.3631     0.2417     0.8129          1        640: 100%|██████████| 7/7 [00:04<00:00,  1.73it/s]\n",
            "                 Class     Images  Instances      Box(P          R      mAP50  mAP50-95)     Mask(P          R      mAP50  mAP50-95): 100%|██████████| 1/1 [00:00<00:00,  4.26it/s]"
          ]
        },
        {
          "output_type": "stream",
          "name": "stdout",
          "text": [
            "                   all          1          1      0.974          1      0.995      0.895      0.974          1      0.995      0.995\n"
          ]
        },
        {
          "output_type": "stream",
          "name": "stderr",
          "text": [
            "\n"
          ]
        },
        {
          "output_type": "stream",
          "name": "stdout",
          "text": [
            "\n",
            "      Epoch    GPU_mem   box_loss   seg_loss   cls_loss   dfl_loss  Instances       Size\n"
          ]
        },
        {
          "output_type": "stream",
          "name": "stderr",
          "text": [
            "       3/40      4.79G     0.3736     0.3913      0.267     0.8586          1        640: 100%|██████████| 7/7 [00:02<00:00,  2.74it/s]\n",
            "                 Class     Images  Instances      Box(P          R      mAP50  mAP50-95)     Mask(P          R      mAP50  mAP50-95): 100%|██████████| 1/1 [00:00<00:00,  8.24it/s]"
          ]
        },
        {
          "output_type": "stream",
          "name": "stdout",
          "text": [
            "                   all          1          1      0.971          1      0.995      0.895      0.971          1      0.995      0.895\n"
          ]
        },
        {
          "output_type": "stream",
          "name": "stderr",
          "text": [
            "\n"
          ]
        },
        {
          "output_type": "stream",
          "name": "stdout",
          "text": [
            "\n",
            "      Epoch    GPU_mem   box_loss   seg_loss   cls_loss   dfl_loss  Instances       Size\n"
          ]
        },
        {
          "output_type": "stream",
          "name": "stderr",
          "text": [
            "       4/40      4.77G     0.3028     0.3996     0.2391     0.7816          1        640: 100%|██████████| 7/7 [00:02<00:00,  2.99it/s]\n",
            "                 Class     Images  Instances      Box(P          R      mAP50  mAP50-95)     Mask(P          R      mAP50  mAP50-95): 100%|██████████| 1/1 [00:00<00:00,  9.93it/s]"
          ]
        },
        {
          "output_type": "stream",
          "name": "stdout",
          "text": [
            "                   all          1          1      0.973          1      0.995      0.995      0.973          1      0.995      0.995\n"
          ]
        },
        {
          "output_type": "stream",
          "name": "stderr",
          "text": [
            "\n"
          ]
        },
        {
          "output_type": "stream",
          "name": "stdout",
          "text": [
            "\n",
            "      Epoch    GPU_mem   box_loss   seg_loss   cls_loss   dfl_loss  Instances       Size\n"
          ]
        },
        {
          "output_type": "stream",
          "name": "stderr",
          "text": [
            "       5/40      4.82G     0.3045     0.3717     0.2784     0.7731          1        640: 100%|██████████| 7/7 [00:02<00:00,  2.56it/s]\n",
            "                 Class     Images  Instances      Box(P          R      mAP50  mAP50-95)     Mask(P          R      mAP50  mAP50-95): 100%|██████████| 1/1 [00:00<00:00, 11.09it/s]"
          ]
        },
        {
          "output_type": "stream",
          "name": "stdout",
          "text": [
            "                   all          1          1      0.972          1      0.995      0.796      0.972          1      0.995      0.995\n"
          ]
        },
        {
          "output_type": "stream",
          "name": "stderr",
          "text": [
            "\n"
          ]
        },
        {
          "output_type": "stream",
          "name": "stdout",
          "text": [
            "\n",
            "      Epoch    GPU_mem   box_loss   seg_loss   cls_loss   dfl_loss  Instances       Size\n"
          ]
        },
        {
          "output_type": "stream",
          "name": "stderr",
          "text": [
            "       6/40      4.77G     0.3096     0.3628     0.2443     0.8296          1        640: 100%|██████████| 7/7 [00:03<00:00,  2.01it/s]\n",
            "                 Class     Images  Instances      Box(P          R      mAP50  mAP50-95)     Mask(P          R      mAP50  mAP50-95): 100%|██████████| 1/1 [00:00<00:00,  5.36it/s]\n"
          ]
        },
        {
          "output_type": "stream",
          "name": "stdout",
          "text": [
            "                   all          1          1      0.973          1      0.995      0.895      0.973          1      0.995      0.995\n",
            "\n",
            "      Epoch    GPU_mem   box_loss   seg_loss   cls_loss   dfl_loss  Instances       Size\n"
          ]
        },
        {
          "output_type": "stream",
          "name": "stderr",
          "text": [
            "       7/40      4.82G     0.3062     0.3355     0.2398     0.8104          1        640: 100%|██████████| 7/7 [00:03<00:00,  1.98it/s]\n",
            "                 Class     Images  Instances      Box(P          R      mAP50  mAP50-95)     Mask(P          R      mAP50  mAP50-95): 100%|██████████| 1/1 [00:00<00:00,  5.02it/s]"
          ]
        },
        {
          "output_type": "stream",
          "name": "stdout",
          "text": [
            "                   all          1          1      0.974          1      0.995      0.895      0.974          1      0.995      0.995\n"
          ]
        },
        {
          "output_type": "stream",
          "name": "stderr",
          "text": [
            "\n"
          ]
        },
        {
          "output_type": "stream",
          "name": "stdout",
          "text": [
            "\n",
            "      Epoch    GPU_mem   box_loss   seg_loss   cls_loss   dfl_loss  Instances       Size\n"
          ]
        },
        {
          "output_type": "stream",
          "name": "stderr",
          "text": [
            "       8/40      4.79G     0.3666       0.37     0.3018     0.8563          1        640: 100%|██████████| 7/7 [00:02<00:00,  3.07it/s]\n",
            "                 Class     Images  Instances      Box(P          R      mAP50  mAP50-95)     Mask(P          R      mAP50  mAP50-95): 100%|██████████| 1/1 [00:00<00:00,  8.76it/s]"
          ]
        },
        {
          "output_type": "stream",
          "name": "stdout",
          "text": [
            "                   all          1          1          1          1      0.995      0.995          1          1      0.995      0.995\n"
          ]
        },
        {
          "output_type": "stream",
          "name": "stderr",
          "text": [
            "\n"
          ]
        },
        {
          "output_type": "stream",
          "name": "stdout",
          "text": [
            "\n",
            "      Epoch    GPU_mem   box_loss   seg_loss   cls_loss   dfl_loss  Instances       Size\n"
          ]
        },
        {
          "output_type": "stream",
          "name": "stderr",
          "text": [
            "       9/40       4.8G     0.4205     0.4366     0.2844     0.8234          1        640: 100%|██████████| 7/7 [00:02<00:00,  3.01it/s]\n",
            "                 Class     Images  Instances      Box(P          R      mAP50  mAP50-95)     Mask(P          R      mAP50  mAP50-95): 100%|██████████| 1/1 [00:00<00:00,  7.23it/s]"
          ]
        },
        {
          "output_type": "stream",
          "name": "stdout",
          "text": [
            "                   all          1          1          1          1      0.995      0.895          1          1      0.995      0.895\n"
          ]
        },
        {
          "output_type": "stream",
          "name": "stderr",
          "text": [
            "\n"
          ]
        },
        {
          "output_type": "stream",
          "name": "stdout",
          "text": [
            "\n",
            "      Epoch    GPU_mem   box_loss   seg_loss   cls_loss   dfl_loss  Instances       Size\n"
          ]
        },
        {
          "output_type": "stream",
          "name": "stderr",
          "text": [
            "      10/40      4.77G     0.3802     0.3661     0.2812     0.8224          1        640: 100%|██████████| 7/7 [00:02<00:00,  3.09it/s]\n",
            "                 Class     Images  Instances      Box(P          R      mAP50  mAP50-95)     Mask(P          R      mAP50  mAP50-95): 100%|██████████| 1/1 [00:00<00:00, 11.41it/s]"
          ]
        },
        {
          "output_type": "stream",
          "name": "stdout",
          "text": [
            "                   all          1          1          1          1      0.995      0.895          1          1      0.995      0.995\n"
          ]
        },
        {
          "output_type": "stream",
          "name": "stderr",
          "text": [
            "\n"
          ]
        },
        {
          "output_type": "stream",
          "name": "stdout",
          "text": [
            "\n",
            "      Epoch    GPU_mem   box_loss   seg_loss   cls_loss   dfl_loss  Instances       Size\n"
          ]
        },
        {
          "output_type": "stream",
          "name": "stderr",
          "text": [
            "      11/40      4.81G     0.3702      0.537     0.3078      0.808          1        640: 100%|██████████| 7/7 [00:03<00:00,  2.28it/s]\n",
            "                 Class     Images  Instances      Box(P          R      mAP50  mAP50-95)     Mask(P          R      mAP50  mAP50-95): 100%|██████████| 1/1 [00:00<00:00,  7.78it/s]\n"
          ]
        },
        {
          "output_type": "stream",
          "name": "stdout",
          "text": [
            "                   all          1          1      0.974          1      0.995      0.895      0.974          1      0.995      0.995\n",
            "\n",
            "      Epoch    GPU_mem   box_loss   seg_loss   cls_loss   dfl_loss  Instances       Size\n"
          ]
        },
        {
          "output_type": "stream",
          "name": "stderr",
          "text": [
            "      12/40      4.81G     0.3855     0.3917     0.2956     0.8522          1        640: 100%|██████████| 7/7 [00:03<00:00,  2.04it/s]\n",
            "                 Class     Images  Instances      Box(P          R      mAP50  mAP50-95)     Mask(P          R      mAP50  mAP50-95): 100%|██████████| 1/1 [00:00<00:00,  6.43it/s]"
          ]
        },
        {
          "output_type": "stream",
          "name": "stdout",
          "text": [
            "                   all          1          1      0.921          1      0.995      0.895      0.921          1      0.995      0.895\n"
          ]
        },
        {
          "output_type": "stream",
          "name": "stderr",
          "text": [
            "\n"
          ]
        },
        {
          "output_type": "stream",
          "name": "stdout",
          "text": [
            "\n",
            "      Epoch    GPU_mem   box_loss   seg_loss   cls_loss   dfl_loss  Instances       Size\n"
          ]
        },
        {
          "output_type": "stream",
          "name": "stderr",
          "text": [
            "      13/40      4.79G      0.439      0.477     0.3101     0.8458          1        640: 100%|██████████| 7/7 [00:02<00:00,  3.10it/s]\n",
            "                 Class     Images  Instances      Box(P          R      mAP50  mAP50-95)     Mask(P          R      mAP50  mAP50-95): 100%|██████████| 1/1 [00:00<00:00, 10.60it/s]"
          ]
        },
        {
          "output_type": "stream",
          "name": "stdout",
          "text": [
            "                   all          1          1      0.961          1      0.995      0.895      0.961          1      0.995      0.895\n"
          ]
        },
        {
          "output_type": "stream",
          "name": "stderr",
          "text": [
            "\n"
          ]
        },
        {
          "output_type": "stream",
          "name": "stdout",
          "text": [
            "\n",
            "      Epoch    GPU_mem   box_loss   seg_loss   cls_loss   dfl_loss  Instances       Size\n"
          ]
        },
        {
          "output_type": "stream",
          "name": "stderr",
          "text": [
            "      14/40      4.81G     0.3734     0.4424     0.2949     0.8307          1        640: 100%|██████████| 7/7 [00:02<00:00,  3.00it/s]\n",
            "                 Class     Images  Instances      Box(P          R      mAP50  mAP50-95)     Mask(P          R      mAP50  mAP50-95): 100%|██████████| 1/1 [00:00<00:00,  9.33it/s]"
          ]
        },
        {
          "output_type": "stream",
          "name": "stdout",
          "text": [
            "                   all          1          1          1          1      0.995      0.895          1          1      0.995      0.895\n"
          ]
        },
        {
          "output_type": "stream",
          "name": "stderr",
          "text": [
            "\n"
          ]
        },
        {
          "output_type": "stream",
          "name": "stdout",
          "text": [
            "\n",
            "      Epoch    GPU_mem   box_loss   seg_loss   cls_loss   dfl_loss  Instances       Size\n"
          ]
        },
        {
          "output_type": "stream",
          "name": "stderr",
          "text": [
            "      15/40       4.8G      0.326     0.4315     0.2642     0.8436          1        640: 100%|██████████| 7/7 [00:02<00:00,  3.05it/s]\n",
            "                 Class     Images  Instances      Box(P          R      mAP50  mAP50-95)     Mask(P          R      mAP50  mAP50-95): 100%|██████████| 1/1 [00:00<00:00,  9.07it/s]"
          ]
        },
        {
          "output_type": "stream",
          "name": "stdout",
          "text": [
            "                   all          1          1          1          1      0.995      0.895          1          1      0.995      0.895\n"
          ]
        },
        {
          "output_type": "stream",
          "name": "stderr",
          "text": [
            "\n"
          ]
        },
        {
          "output_type": "stream",
          "name": "stdout",
          "text": [
            "\n",
            "      Epoch    GPU_mem   box_loss   seg_loss   cls_loss   dfl_loss  Instances       Size\n"
          ]
        },
        {
          "output_type": "stream",
          "name": "stderr",
          "text": [
            "      16/40      4.82G     0.3773     0.4735     0.2864     0.8369          1        640: 100%|██████████| 7/7 [00:03<00:00,  2.28it/s]\n",
            "                 Class     Images  Instances      Box(P          R      mAP50  mAP50-95)     Mask(P          R      mAP50  mAP50-95): 100%|██████████| 1/1 [00:00<00:00,  5.46it/s]"
          ]
        },
        {
          "output_type": "stream",
          "name": "stdout",
          "text": [
            "                   all          1          1          1          1      0.995      0.895          1          1      0.995      0.895\n"
          ]
        },
        {
          "output_type": "stream",
          "name": "stderr",
          "text": [
            "\n"
          ]
        },
        {
          "output_type": "stream",
          "name": "stdout",
          "text": [
            "\n",
            "      Epoch    GPU_mem   box_loss   seg_loss   cls_loss   dfl_loss  Instances       Size\n"
          ]
        },
        {
          "output_type": "stream",
          "name": "stderr",
          "text": [
            "      17/40      4.79G     0.3301      0.404     0.2522     0.8193          1        640: 100%|██████████| 7/7 [00:03<00:00,  2.05it/s]\n",
            "                 Class     Images  Instances      Box(P          R      mAP50  mAP50-95)     Mask(P          R      mAP50  mAP50-95): 100%|██████████| 1/1 [00:00<00:00,  5.84it/s]\n"
          ]
        },
        {
          "output_type": "stream",
          "name": "stdout",
          "text": [
            "                   all          1          1          1          1      0.995      0.895          1          1      0.995      0.895\n",
            "\n",
            "      Epoch    GPU_mem   box_loss   seg_loss   cls_loss   dfl_loss  Instances       Size\n"
          ]
        },
        {
          "output_type": "stream",
          "name": "stderr",
          "text": [
            "      18/40      4.82G     0.4062      0.444     0.2773     0.8019          1        640: 100%|██████████| 7/7 [00:03<00:00,  1.99it/s]\n",
            "                 Class     Images  Instances      Box(P          R      mAP50  mAP50-95)     Mask(P          R      mAP50  mAP50-95): 100%|██████████| 1/1 [00:00<00:00,  5.48it/s]"
          ]
        },
        {
          "output_type": "stream",
          "name": "stdout",
          "text": [
            "                   all          1          1          1          1      0.995      0.895          1          1      0.995      0.895\n"
          ]
        },
        {
          "output_type": "stream",
          "name": "stderr",
          "text": [
            "\n"
          ]
        },
        {
          "output_type": "stream",
          "name": "stdout",
          "text": [
            "\n",
            "      Epoch    GPU_mem   box_loss   seg_loss   cls_loss   dfl_loss  Instances       Size\n"
          ]
        },
        {
          "output_type": "stream",
          "name": "stderr",
          "text": [
            "      19/40      4.79G     0.3222     0.4516     0.2548     0.8305          1        640: 100%|██████████| 7/7 [00:03<00:00,  2.13it/s]\n",
            "                 Class     Images  Instances      Box(P          R      mAP50  mAP50-95)     Mask(P          R      mAP50  mAP50-95): 100%|██████████| 1/1 [00:00<00:00,  6.71it/s]\n"
          ]
        },
        {
          "output_type": "stream",
          "name": "stdout",
          "text": [
            "                   all          1          1      0.972          1      0.995      0.995      0.972          1      0.995      0.995\n",
            "\n",
            "      Epoch    GPU_mem   box_loss   seg_loss   cls_loss   dfl_loss  Instances       Size\n"
          ]
        },
        {
          "output_type": "stream",
          "name": "stderr",
          "text": [
            "      20/40      4.82G     0.3208     0.4142     0.2624     0.7853          1        640: 100%|██████████| 7/7 [00:02<00:00,  3.03it/s]\n",
            "                 Class     Images  Instances      Box(P          R      mAP50  mAP50-95)     Mask(P          R      mAP50  mAP50-95): 100%|██████████| 1/1 [00:00<00:00,  8.57it/s]"
          ]
        },
        {
          "output_type": "stream",
          "name": "stdout",
          "text": [
            "                   all          1          1          1          1      0.995      0.895          1          1      0.995      0.995\n"
          ]
        },
        {
          "output_type": "stream",
          "name": "stderr",
          "text": [
            "\n"
          ]
        },
        {
          "output_type": "stream",
          "name": "stdout",
          "text": [
            "\n",
            "      Epoch    GPU_mem   box_loss   seg_loss   cls_loss   dfl_loss  Instances       Size\n"
          ]
        },
        {
          "output_type": "stream",
          "name": "stderr",
          "text": [
            "      21/40      4.79G     0.3075     0.4232     0.2507     0.7807          1        640: 100%|██████████| 7/7 [00:02<00:00,  2.46it/s]\n",
            "                 Class     Images  Instances      Box(P          R      mAP50  mAP50-95)     Mask(P          R      mAP50  mAP50-95): 100%|██████████| 1/1 [00:00<00:00,  5.80it/s]"
          ]
        },
        {
          "output_type": "stream",
          "name": "stdout",
          "text": [
            "                   all          1          1          1          1      0.995      0.995          1          1      0.995      0.995\n"
          ]
        },
        {
          "output_type": "stream",
          "name": "stderr",
          "text": [
            "\n"
          ]
        },
        {
          "output_type": "stream",
          "name": "stdout",
          "text": [
            "\n",
            "      Epoch    GPU_mem   box_loss   seg_loss   cls_loss   dfl_loss  Instances       Size\n"
          ]
        },
        {
          "output_type": "stream",
          "name": "stderr",
          "text": [
            "      22/40      4.81G     0.3158     0.3681     0.2314     0.8214          1        640: 100%|██████████| 7/7 [00:03<00:00,  2.09it/s]\n",
            "                 Class     Images  Instances      Box(P          R      mAP50  mAP50-95)     Mask(P          R      mAP50  mAP50-95): 100%|██████████| 1/1 [00:00<00:00,  6.14it/s]"
          ]
        },
        {
          "output_type": "stream",
          "name": "stdout",
          "text": [
            "                   all          1          1          1          1      0.995      0.895          1          1      0.995     0.0995\n"
          ]
        },
        {
          "output_type": "stream",
          "name": "stderr",
          "text": [
            "\n"
          ]
        },
        {
          "output_type": "stream",
          "name": "stdout",
          "text": [
            "\n",
            "      Epoch    GPU_mem   box_loss   seg_loss   cls_loss   dfl_loss  Instances       Size\n"
          ]
        },
        {
          "output_type": "stream",
          "name": "stderr",
          "text": [
            "      23/40      4.79G     0.3383     0.6137     0.2451     0.7985          1        640: 100%|██████████| 7/7 [00:03<00:00,  2.22it/s]\n",
            "                 Class     Images  Instances      Box(P          R      mAP50  mAP50-95)     Mask(P          R      mAP50  mAP50-95): 100%|██████████| 1/1 [00:00<00:00,  7.01it/s]"
          ]
        },
        {
          "output_type": "stream",
          "name": "stdout",
          "text": [
            "                   all          1          1          1          1      0.995      0.895          1          1      0.995      0.796\n"
          ]
        },
        {
          "output_type": "stream",
          "name": "stderr",
          "text": [
            "\n"
          ]
        },
        {
          "output_type": "stream",
          "name": "stdout",
          "text": [
            "\n",
            "      Epoch    GPU_mem   box_loss   seg_loss   cls_loss   dfl_loss  Instances       Size\n"
          ]
        },
        {
          "output_type": "stream",
          "name": "stderr",
          "text": [
            "      24/40      4.82G     0.3385     0.3877     0.2371     0.8201          1        640: 100%|██████████| 7/7 [00:02<00:00,  3.05it/s]\n",
            "                 Class     Images  Instances      Box(P          R      mAP50  mAP50-95)     Mask(P          R      mAP50  mAP50-95): 100%|██████████| 1/1 [00:00<00:00,  9.24it/s]"
          ]
        },
        {
          "output_type": "stream",
          "name": "stdout",
          "text": [
            "                   all          1          1       0.97          1      0.995      0.895       0.97          1      0.995      0.895\n"
          ]
        },
        {
          "output_type": "stream",
          "name": "stderr",
          "text": [
            "\n"
          ]
        },
        {
          "output_type": "stream",
          "name": "stdout",
          "text": [
            "\n",
            "      Epoch    GPU_mem   box_loss   seg_loss   cls_loss   dfl_loss  Instances       Size\n"
          ]
        },
        {
          "output_type": "stream",
          "name": "stderr",
          "text": [
            "      25/40      4.79G     0.3606     0.4106     0.2515     0.8143          1        640: 100%|██████████| 7/7 [00:02<00:00,  3.12it/s]\n",
            "                 Class     Images  Instances      Box(P          R      mAP50  mAP50-95)     Mask(P          R      mAP50  mAP50-95): 100%|██████████| 1/1 [00:00<00:00, 11.45it/s]"
          ]
        },
        {
          "output_type": "stream",
          "name": "stdout",
          "text": [
            "                   all          1          1      0.973          1      0.995      0.895      0.973          1      0.995      0.895\n"
          ]
        },
        {
          "output_type": "stream",
          "name": "stderr",
          "text": [
            "\n"
          ]
        },
        {
          "output_type": "stream",
          "name": "stdout",
          "text": [
            "\n",
            "      Epoch    GPU_mem   box_loss   seg_loss   cls_loss   dfl_loss  Instances       Size\n"
          ]
        },
        {
          "output_type": "stream",
          "name": "stderr",
          "text": [
            "      26/40      4.81G     0.3342     0.4466     0.2452     0.8178          1        640: 100%|██████████| 7/7 [00:02<00:00,  3.08it/s]\n",
            "                 Class     Images  Instances      Box(P          R      mAP50  mAP50-95)     Mask(P          R      mAP50  mAP50-95): 100%|██████████| 1/1 [00:00<00:00, 11.68it/s]"
          ]
        },
        {
          "output_type": "stream",
          "name": "stdout",
          "text": [
            "                   all          1          1      0.972          1      0.995      0.895      0.972          1      0.995      0.995\n"
          ]
        },
        {
          "output_type": "stream",
          "name": "stderr",
          "text": [
            "\n"
          ]
        },
        {
          "output_type": "stream",
          "name": "stdout",
          "text": [
            "\n",
            "      Epoch    GPU_mem   box_loss   seg_loss   cls_loss   dfl_loss  Instances       Size\n"
          ]
        },
        {
          "output_type": "stream",
          "name": "stderr",
          "text": [
            "      27/40       4.8G     0.3215     0.3477     0.2468     0.7988          1        640: 100%|██████████| 7/7 [00:03<00:00,  2.28it/s]\n",
            "                 Class     Images  Instances      Box(P          R      mAP50  mAP50-95)     Mask(P          R      mAP50  mAP50-95): 100%|██████████| 1/1 [00:00<00:00,  7.62it/s]\n"
          ]
        },
        {
          "output_type": "stream",
          "name": "stdout",
          "text": [
            "                   all          1          1      0.966          1      0.995      0.995      0.966          1      0.995      0.995\n",
            "\n",
            "      Epoch    GPU_mem   box_loss   seg_loss   cls_loss   dfl_loss  Instances       Size\n"
          ]
        },
        {
          "output_type": "stream",
          "name": "stderr",
          "text": [
            "      28/40      4.82G     0.3173     0.3824     0.2637     0.8674          1        640: 100%|██████████| 7/7 [00:03<00:00,  2.04it/s]\n",
            "                 Class     Images  Instances      Box(P          R      mAP50  mAP50-95)     Mask(P          R      mAP50  mAP50-95): 100%|██████████| 1/1 [00:00<00:00,  7.23it/s]"
          ]
        },
        {
          "output_type": "stream",
          "name": "stdout",
          "text": [
            "                   all          1          1      0.973          1      0.995      0.995      0.973          1      0.995      0.995\n"
          ]
        },
        {
          "output_type": "stream",
          "name": "stderr",
          "text": [
            "\n"
          ]
        },
        {
          "output_type": "stream",
          "name": "stdout",
          "text": [
            "\n",
            "      Epoch    GPU_mem   box_loss   seg_loss   cls_loss   dfl_loss  Instances       Size\n"
          ]
        },
        {
          "output_type": "stream",
          "name": "stderr",
          "text": [
            "      29/40      4.78G     0.3297     0.3536     0.2339     0.7831          1        640: 100%|██████████| 7/7 [00:02<00:00,  3.08it/s]\n",
            "                 Class     Images  Instances      Box(P          R      mAP50  mAP50-95)     Mask(P          R      mAP50  mAP50-95): 100%|██████████| 1/1 [00:00<00:00, 12.30it/s]"
          ]
        },
        {
          "output_type": "stream",
          "name": "stdout",
          "text": [
            "                   all          1          1          1          1      0.995      0.995          1          1      0.995      0.995\n"
          ]
        },
        {
          "output_type": "stream",
          "name": "stderr",
          "text": [
            "\n"
          ]
        },
        {
          "output_type": "stream",
          "name": "stdout",
          "text": [
            "\n",
            "      Epoch    GPU_mem   box_loss   seg_loss   cls_loss   dfl_loss  Instances       Size\n"
          ]
        },
        {
          "output_type": "stream",
          "name": "stderr",
          "text": [
            "      30/40      4.81G     0.2802     0.3412     0.2176     0.8372          1        640: 100%|██████████| 7/7 [00:02<00:00,  3.08it/s]\n",
            "                 Class     Images  Instances      Box(P          R      mAP50  mAP50-95)     Mask(P          R      mAP50  mAP50-95): 100%|██████████| 1/1 [00:00<00:00,  9.18it/s]"
          ]
        },
        {
          "output_type": "stream",
          "name": "stdout",
          "text": [
            "                   all          1          1          1          1      0.995      0.995          1          1      0.995      0.995\n"
          ]
        },
        {
          "output_type": "stream",
          "name": "stderr",
          "text": [
            "\n"
          ]
        },
        {
          "output_type": "stream",
          "name": "stdout",
          "text": [
            "Closing dataloader mosaic\n",
            "\u001b[34m\u001b[1malbumentations: \u001b[0mBlur(p=0.01, blur_limit=(3, 7)), MedianBlur(p=0.01, blur_limit=(3, 7)), ToGray(p=0.01), CLAHE(p=0.01, clip_limit=(1, 4.0), tile_grid_size=(8, 8))\n"
          ]
        },
        {
          "output_type": "stream",
          "name": "stderr",
          "text": [
            "/usr/lib/python3.10/multiprocessing/popen_fork.py:66: RuntimeWarning: os.fork() was called. os.fork() is incompatible with multithreaded code, and JAX is multithreaded, so this will likely lead to a deadlock.\n",
            "  self.pid = os.fork()\n"
          ]
        },
        {
          "output_type": "stream",
          "name": "stdout",
          "text": [
            "\n",
            "      Epoch    GPU_mem   box_loss   seg_loss   cls_loss   dfl_loss  Instances       Size\n"
          ]
        },
        {
          "output_type": "stream",
          "name": "stderr",
          "text": [
            "      31/40       4.8G     0.3041     0.3685     0.2249     0.7589          1        640: 100%|██████████| 7/7 [00:10<00:00,  1.45s/it]\n",
            "                 Class     Images  Instances      Box(P          R      mAP50  mAP50-95)     Mask(P          R      mAP50  mAP50-95): 100%|██████████| 1/1 [00:00<00:00,  4.18it/s]"
          ]
        },
        {
          "output_type": "stream",
          "name": "stdout",
          "text": [
            "                   all          1          1          1          1      0.995      0.995          1          1      0.995      0.995\n"
          ]
        },
        {
          "output_type": "stream",
          "name": "stderr",
          "text": [
            "\n"
          ]
        },
        {
          "output_type": "stream",
          "name": "stdout",
          "text": [
            "\n",
            "      Epoch    GPU_mem   box_loss   seg_loss   cls_loss   dfl_loss  Instances       Size\n"
          ]
        },
        {
          "output_type": "stream",
          "name": "stderr",
          "text": [
            "      32/40      4.82G     0.3078      0.326     0.2257     0.8143          1        640: 100%|██████████| 7/7 [00:02<00:00,  2.57it/s]\n",
            "                 Class     Images  Instances      Box(P          R      mAP50  mAP50-95)     Mask(P          R      mAP50  mAP50-95): 100%|██████████| 1/1 [00:00<00:00,  9.93it/s]"
          ]
        },
        {
          "output_type": "stream",
          "name": "stdout",
          "text": [
            "                   all          1          1          1          1      0.995      0.895          1          1      0.995      0.995\n"
          ]
        },
        {
          "output_type": "stream",
          "name": "stderr",
          "text": [
            "\n"
          ]
        },
        {
          "output_type": "stream",
          "name": "stdout",
          "text": [
            "\n",
            "      Epoch    GPU_mem   box_loss   seg_loss   cls_loss   dfl_loss  Instances       Size\n"
          ]
        },
        {
          "output_type": "stream",
          "name": "stderr",
          "text": [
            "      33/40      4.79G     0.2913     0.3471     0.2083     0.7664          1        640: 100%|██████████| 7/7 [00:02<00:00,  2.94it/s]\n",
            "                 Class     Images  Instances      Box(P          R      mAP50  mAP50-95)     Mask(P          R      mAP50  mAP50-95): 100%|██████████| 1/1 [00:00<00:00, 12.11it/s]"
          ]
        },
        {
          "output_type": "stream",
          "name": "stdout",
          "text": [
            "                   all          1          1          1          1      0.995      0.895          1          1      0.995      0.995\n"
          ]
        },
        {
          "output_type": "stream",
          "name": "stderr",
          "text": [
            "\n"
          ]
        },
        {
          "output_type": "stream",
          "name": "stdout",
          "text": [
            "\n",
            "      Epoch    GPU_mem   box_loss   seg_loss   cls_loss   dfl_loss  Instances       Size\n"
          ]
        },
        {
          "output_type": "stream",
          "name": "stderr",
          "text": [
            "      34/40      4.81G     0.2876     0.3645     0.2208     0.8183          1        640: 100%|██████████| 7/7 [00:02<00:00,  2.96it/s]\n",
            "                 Class     Images  Instances      Box(P          R      mAP50  mAP50-95)     Mask(P          R      mAP50  mAP50-95): 100%|██████████| 1/1 [00:00<00:00,  6.27it/s]"
          ]
        },
        {
          "output_type": "stream",
          "name": "stdout",
          "text": [
            "                   all          1          1          1          1      0.995      0.895          1          1      0.995      0.995\n"
          ]
        },
        {
          "output_type": "stream",
          "name": "stderr",
          "text": [
            "\n"
          ]
        },
        {
          "output_type": "stream",
          "name": "stdout",
          "text": [
            "\n",
            "      Epoch    GPU_mem   box_loss   seg_loss   cls_loss   dfl_loss  Instances       Size\n"
          ]
        },
        {
          "output_type": "stream",
          "name": "stderr",
          "text": [
            "      35/40      4.79G     0.2713     0.3346     0.2028     0.8102          1        640: 100%|██████████| 7/7 [00:02<00:00,  2.37it/s]\n",
            "                 Class     Images  Instances      Box(P          R      mAP50  mAP50-95)     Mask(P          R      mAP50  mAP50-95): 100%|██████████| 1/1 [00:00<00:00,  6.11it/s]\n"
          ]
        },
        {
          "output_type": "stream",
          "name": "stdout",
          "text": [
            "                   all          1          1          1          1      0.995      0.895          1          1      0.995      0.995\n",
            "\n",
            "      Epoch    GPU_mem   box_loss   seg_loss   cls_loss   dfl_loss  Instances       Size\n"
          ]
        },
        {
          "output_type": "stream",
          "name": "stderr",
          "text": [
            "      36/40      4.82G      0.266     0.3249      0.202     0.7453          1        640: 100%|██████████| 7/7 [00:03<00:00,  1.87it/s]\n",
            "                 Class     Images  Instances      Box(P          R      mAP50  mAP50-95)     Mask(P          R      mAP50  mAP50-95): 100%|██████████| 1/1 [00:00<00:00,  8.43it/s]"
          ]
        },
        {
          "output_type": "stream",
          "name": "stdout",
          "text": [
            "                   all          1          1          1          1      0.995      0.895          1          1      0.995      0.995\n"
          ]
        },
        {
          "output_type": "stream",
          "name": "stderr",
          "text": [
            "\n"
          ]
        },
        {
          "output_type": "stream",
          "name": "stdout",
          "text": [
            "\n",
            "      Epoch    GPU_mem   box_loss   seg_loss   cls_loss   dfl_loss  Instances       Size\n"
          ]
        },
        {
          "output_type": "stream",
          "name": "stderr",
          "text": [
            "      37/40      4.79G     0.2979     0.3644     0.2052     0.7842          1        640: 100%|██████████| 7/7 [00:02<00:00,  3.07it/s]\n",
            "                 Class     Images  Instances      Box(P          R      mAP50  mAP50-95)     Mask(P          R      mAP50  mAP50-95): 100%|██████████| 1/1 [00:00<00:00, 20.30it/s]\n"
          ]
        },
        {
          "output_type": "stream",
          "name": "stdout",
          "text": [
            "                   all          1          1          1          1      0.995      0.895          1          1      0.995      0.995\n",
            "\n",
            "      Epoch    GPU_mem   box_loss   seg_loss   cls_loss   dfl_loss  Instances       Size\n"
          ]
        },
        {
          "output_type": "stream",
          "name": "stderr",
          "text": [
            "      38/40      4.82G     0.2398     0.3232     0.1837     0.7688          1        640: 100%|██████████| 7/7 [00:02<00:00,  2.93it/s]\n",
            "                 Class     Images  Instances      Box(P          R      mAP50  mAP50-95)     Mask(P          R      mAP50  mAP50-95): 100%|██████████| 1/1 [00:00<00:00, 20.91it/s]"
          ]
        },
        {
          "output_type": "stream",
          "name": "stdout",
          "text": [
            "                   all          1          1          1          1      0.995      0.995          1          1      0.995      0.995\n"
          ]
        },
        {
          "output_type": "stream",
          "name": "stderr",
          "text": [
            "\n"
          ]
        },
        {
          "output_type": "stream",
          "name": "stdout",
          "text": [
            "\n",
            "      Epoch    GPU_mem   box_loss   seg_loss   cls_loss   dfl_loss  Instances       Size\n"
          ]
        },
        {
          "output_type": "stream",
          "name": "stderr",
          "text": [
            "      39/40       4.8G      0.301     0.3486     0.2658     0.8245          1        640: 100%|██████████| 7/7 [00:02<00:00,  3.08it/s]\n",
            "                 Class     Images  Instances      Box(P          R      mAP50  mAP50-95)     Mask(P          R      mAP50  mAP50-95): 100%|██████████| 1/1 [00:00<00:00, 12.93it/s]"
          ]
        },
        {
          "output_type": "stream",
          "name": "stdout",
          "text": [
            "                   all          1          1          1          1      0.995      0.995          1          1      0.995      0.995\n"
          ]
        },
        {
          "output_type": "stream",
          "name": "stderr",
          "text": [
            "\n"
          ]
        },
        {
          "output_type": "stream",
          "name": "stdout",
          "text": [
            "\n",
            "      Epoch    GPU_mem   box_loss   seg_loss   cls_loss   dfl_loss  Instances       Size\n"
          ]
        },
        {
          "output_type": "stream",
          "name": "stderr",
          "text": [
            "      40/40      4.82G     0.3597     0.7047      0.221     0.9137          1        640: 100%|██████████| 7/7 [00:03<00:00,  2.32it/s]\n",
            "                 Class     Images  Instances      Box(P          R      mAP50  mAP50-95)     Mask(P          R      mAP50  mAP50-95): 100%|██████████| 1/1 [00:00<00:00,  7.50it/s]"
          ]
        },
        {
          "output_type": "stream",
          "name": "stdout",
          "text": [
            "                   all          1          1          1          1      0.995      0.995          1          1      0.995      0.995\n"
          ]
        },
        {
          "output_type": "stream",
          "name": "stderr",
          "text": [
            "\n"
          ]
        },
        {
          "output_type": "stream",
          "name": "stdout",
          "text": [
            "\n",
            "40 epochs completed in 0.057 hours.\n",
            "Optimizer stripped from runs/segment/train22/weights/last.pt, 23.8MB\n",
            "Optimizer stripped from runs/segment/train22/weights/best.pt, 23.8MB\n",
            "\n",
            "Validating runs/segment/train22/weights/best.pt...\n",
            "Ultralytics YOLOv8.2.28 🚀 Python-3.10.12 torch-2.3.0+cu121 CUDA:0 (Tesla T4, 15102MiB)\n",
            "YOLOv8s-seg summary (fused): 195 layers, 11779987 parameters, 0 gradients, 42.4 GFLOPs\n"
          ]
        },
        {
          "output_type": "stream",
          "name": "stderr",
          "text": [
            "                 Class     Images  Instances      Box(P          R      mAP50  mAP50-95)     Mask(P          R      mAP50  mAP50-95): 100%|██████████| 1/1 [00:00<00:00, 17.10it/s]\n"
          ]
        },
        {
          "output_type": "stream",
          "name": "stdout",
          "text": [
            "                   all          1          1          1          1      0.995      0.995          1          1      0.995      0.995\n",
            "Speed: 0.5ms preprocess, 27.6ms inference, 0.0ms loss, 1.5ms postprocess per image\n",
            "Results saved to \u001b[1mruns/segment/train22\u001b[0m\n"
          ]
        }
      ]
    },
    {
      "cell_type": "markdown",
      "source": [
        "# Инференс"
      ],
      "metadata": {
        "id": "r8zWwJ6iBtoz"
      }
    },
    {
      "cell_type": "code",
      "source": [
        "def preproces_image(image_path):\n",
        "    '''\n",
        "    Читает изображение из пути, переводит в серое с 3 каналами\n",
        "    '''\n",
        "    image = cv2.imread(image_path)\n",
        "    gray_image = cv2.cvtColor(image, cv2.COLOR_BGR2GRAY)\n",
        "    return cv2.merge((gray_image, gray_image, gray_image))\n",
        "\n",
        "\n"
      ],
      "metadata": {
        "id": "3u7B9p9Aua05"
      },
      "execution_count": null,
      "outputs": []
    },
    {
      "cell_type": "code",
      "source": [
        "# Load a model\n",
        "#model = YOLO('/content/runs/segment/train2/weights/best.pt')  # load a custom model\n",
        "model = YOLO('/content/runs/segment/train/weights/best.pt')\n",
        "\n",
        "image = preproces_image('/content/valid/images/10a_jpg.rf.b6d9406c81908b759481969f72bcc1b6.jpg')\n",
        "\n",
        "# Predict with the model\n",
        "results = model(image)  # predict on an image"
      ],
      "metadata": {
        "colab": {
          "base_uri": "https://localhost:8080/"
        },
        "id": "Ufff34_A1URT",
        "outputId": "d1b34732-b84b-4911-abec-af41c0ea6aa7"
      },
      "execution_count": null,
      "outputs": [
        {
          "output_type": "stream",
          "name": "stdout",
          "text": [
            "\n",
            "0: 544x640 1 weld-area, 577.0ms\n",
            "Speed: 6.6ms preprocess, 577.0ms inference, 12.4ms postprocess per image at shape (1, 3, 544, 640)\n"
          ]
        }
      ]
    },
    {
      "cell_type": "code",
      "source": [
        "plt.imshow(results[0].plot())"
      ],
      "metadata": {
        "colab": {
          "base_uri": "https://localhost:8080/",
          "height": 452
        },
        "id": "uYfoBz561c5_",
        "outputId": "74364bf9-6ba9-4772-8c55-9e8c1ba7b19a"
      },
      "execution_count": null,
      "outputs": [
        {
          "output_type": "execute_result",
          "data": {
            "text/plain": [
              "<matplotlib.image.AxesImage at 0x79f0160d1b10>"
            ]
          },
          "metadata": {},
          "execution_count": 9
        },
        {
          "output_type": "display_data",
          "data": {
            "text/plain": [
              "<Figure size 640x480 with 1 Axes>"
            ],
            "image/png": "[encoded data removed]"
          },
          "metadata": {}
        }
      ]
    },
    {
      "cell_type": "code",
      "source": [
        "masks = results[0].masks.data.cpu()\n",
        "plt.imshow(masks[0])"
      ],
      "metadata": {
        "id": "rn41RWe11fho",
        "colab": {
          "base_uri": "https://localhost:8080/",
          "height": 453
        },
        "outputId": "dee72460-6829-4796-bf07-6550237090d6"
      },
      "execution_count": null,
      "outputs": [
        {
          "output_type": "execute_result",
          "data": {
            "text/plain": [
              "<matplotlib.image.AxesImage at 0x7e549da4c400>"
            ]
          },
          "metadata": {},
          "execution_count": 190
        },
        {
          "output_type": "display_data",
          "data": {
            "text/plain": [
              "<Figure size 640x480 with 1 Axes>"
            ],
            "image/png": "[encoded data removed]"
          },
          "metadata": {}
        }
      ]
    },
    {
      "cell_type": "markdown",
      "source": [
        "### Постпроцессинг:\n",
        "\n",
        "1) для каждой маски оставляем самый большой контур\n",
        "\n",
        "2) Вычисляем центральные позиции для каждой маски, сохраняем только те, что в центре\n",
        "\n",
        "3) Resize к оригинальному размеру"
      ],
      "metadata": {
        "id": "rURYgDUQNIfJ"
      }
    },
    {
      "cell_type": "code",
      "source": [
        "def get_central_mask(boxes, masks):\n",
        "    '''\n",
        "    Вычисляем центральные позиции для каждой маски, сохраняет те,\n",
        "    что в центре\n",
        "    '''\n",
        "    indexes_not_central = []\n",
        "    # x, y -  центры масок\n",
        "    for i, (x, y, w, h) in enumerate(boxes.xywhn.numpy()):\n",
        "        center_position = np.array([x, y])\n",
        "        if ((center_position < 0.35) | (center_position > 0.65)).any():\n",
        "            indexes_not_central.append(i)\n",
        "    # Оставляем только центральные маски\n",
        "    masks = np.delete(masks, indexes_not_central, axis=0)\n",
        "    return masks\n",
        "\n",
        "def resize_masks(masks, orig_shape):\n",
        "    resized_masks = []\n",
        "    height, width = orig_shape[:2]\n",
        "    for mask in masks:\n",
        "        resized_mask = cv2.resize(mask, (width, height),\n",
        "                                  interpolation = cv2.INTER_AREA)\n",
        "        resized_masks.append(resized_mask)\n",
        "    resized_masks = np.array(resized_masks)\n",
        "    return resized_masks\n",
        "\n",
        "def keep_largest_contour(mask):\n",
        "    # Находим контуры в маске\n",
        "    mask = np.array(mask, np.uint8)\n",
        "    contours, _ = cv2.findContours(mask, cv2.RETR_EXTERNAL, cv2.CHAIN_APPROX_SIMPLE)\n",
        "\n",
        "    if len(contours) == 0:\n",
        "        # Если контуры не были найдены, возвращаем пустую маску\n",
        "        return np.zeros_like(mask)\n",
        "\n",
        "    # Находим самый большой контур\n",
        "    largest_contour = max(contours, key=cv2.contourArea)\n",
        "\n",
        "    # Создаем новую маску и рисуем на ней только самый большой контур\n",
        "    new_mask = np.zeros_like(mask)\n",
        "    cv2.drawContours(new_mask, [largest_contour], -1, 1, -1)  # -1 означает, что мы рисуем внутри контура\n",
        "\n",
        "    return new_mask\n"
      ],
      "metadata": {
        "id": "BQVt1VBCDzrP"
      },
      "execution_count": null,
      "outputs": []
    },
    {
      "cell_type": "code",
      "source": [
        "def postproces(results):\n",
        "    '''Постпроцессинг для масок:\n",
        "    Принимает на вход выход Yolo модели\n",
        "    1) Для каждой маски оставляем самый большой контур\n",
        "    2) Вычисляем центральные позиции для каждой маски, сохраняет те,\n",
        "    что в центре\n",
        "    3) Resize к оригинальному размеру\n",
        "    На выходе набор центральных масок оригинального размера np.array\n",
        "    '''\n",
        "    result = results[0].cpu()\n",
        "    orig_shape = result.orig_img.shape\n",
        "    boxes = result.boxes\n",
        "    masks = result.masks.data.cpu().numpy()\n",
        "    # Оставляю самый большой контур\n",
        "    masks = np.array(list(map(keep_largest_contour, masks)))\n",
        "    # Оставляю только центральные маски\n",
        "    masks = get_central_mask(boxes, masks)\n",
        "    # Возвращаю маски к разумеру изображения\n",
        "    result_masks = resize_masks(masks, orig_shape)\n",
        "\n",
        "    return result_masks"
      ],
      "metadata": {
        "id": "KrtQHC51S1A3"
      },
      "execution_count": null,
      "outputs": []
    },
    {
      "cell_type": "code",
      "source": [
        "result_masks = postproces(results)\n",
        "print(result_masks.__len__())\n",
        "plt.imshow(result_masks[1])\n",
        "plt.show()"
      ],
      "metadata": {
        "colab": {
          "base_uri": "https://localhost:8080/",
          "height": 453
        },
        "id": "He1Gx2XRQMf1",
        "outputId": "6c162d21-28af-4990-e1bb-232233767b89"
      },
      "execution_count": null,
      "outputs": [
        {
          "output_type": "stream",
          "name": "stdout",
          "text": [
            "2\n"
          ]
        },
        {
          "output_type": "display_data",
          "data": {
            "text/plain": [
              "<Figure size 640x480 with 1 Axes>"
            ],
            "image/png": "[encoded data removed]"
          },
          "metadata": {}
        }
      ]
    },
    {
      "cell_type": "code",
      "source": [],
      "metadata": {
        "id": "WZeUZmQPbhxh"
      },
      "execution_count": null,
      "outputs": []
    }
  ]
}